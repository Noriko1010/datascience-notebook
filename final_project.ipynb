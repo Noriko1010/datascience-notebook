{
  "nbformat": 4,
  "nbformat_minor": 0,
  "metadata": {
    "colab": {
      "provenance": []
    },
    "kernelspec": {
      "name": "python3",
      "display_name": "Python 3"
    },
    "language_info": {
      "name": "python"
    }
  },
  "cells": [
    {
      "cell_type": "code",
      "execution_count": null,
      "metadata": {
        "id": "iS6Wz-uTPzPc",
        "colab": {
          "base_uri": "https://localhost:8080/",
          "height": 110
        },
        "outputId": "244e0ff7-bd0c-46cf-ee09-d7c6b9cdf995"
      },
      "outputs": [
        {
          "output_type": "error",
          "ename": "SyntaxError",
          "evalue": "invalid syntax (ipython-input-1-2741448751.py, line 5)",
          "traceback": [
            "\u001b[0;36m  File \u001b[0;32m\"/tmp/ipython-input-1-2741448751.py\"\u001b[0;36m, line \u001b[0;32m5\u001b[0m\n\u001b[0;31m    In this notebook, we will explore various tools and libraries commonly used in data science.\u001b[0m\n\u001b[0m       ^\u001b[0m\n\u001b[0;31mSyntaxError\u001b[0m\u001b[0;31m:\u001b[0m invalid syntax\n"
          ]
        }
      ],
      "source": [
        "# Final Project - Data Science Tools\n",
        "\n",
        "# Data Science Tools and Ecosystem\n",
        "\n",
        "\n",
        "In this notebook, we will explore various tools and libraries commonly used in data science.\n"
      ]
    },
    {
      "cell_type": "code",
      "source": [
        "In this notebook, we will explore various tools and libraries commonly used in data science."
      ],
      "metadata": {
        "colab": {
          "base_uri": "https://localhost:8080/",
          "height": 110
        },
        "id": "BsiY8aPUrXkz",
        "outputId": "86eac6c6-d909-4677-ee5b-6b5064b0d96d"
      },
      "execution_count": null,
      "outputs": [
        {
          "output_type": "error",
          "ename": "SyntaxError",
          "evalue": "invalid syntax (ipython-input-2-2330607410.py, line 1)",
          "traceback": [
            "\u001b[0;36m  File \u001b[0;32m\"/tmp/ipython-input-2-2330607410.py\"\u001b[0;36m, line \u001b[0;32m1\u001b[0m\n\u001b[0;31m    In this notebook, we will explore various tools and libraries commonly used in data science.\u001b[0m\n\u001b[0m       ^\u001b[0m\n\u001b[0;31mSyntaxError\u001b[0m\u001b[0;31m:\u001b[0m invalid syntax\n"
          ]
        }
      ]
    },
    {
      "cell_type": "markdown",
      "source": [],
      "metadata": {
        "id": "KvrHU55YsB4U"
      }
    },
    {
      "cell_type": "markdown",
      "source": [
        "Some of the popular languages that Data Scientists use are:\n",
        "\n",
        "1. Python  \n",
        "2. R  \n",
        "3. SQL  \n",
        "4. Julia  \n",
        "5. Scala\n"
      ],
      "metadata": {
        "id": "N7YdARV5fp_4"
      }
    },
    {
      "cell_type": "markdown",
      "source": [
        "In this notebook, we will explore various tools and libraries commonly used in data science."
      ],
      "metadata": {
        "id": "B3ANakZrsKZh"
      }
    },
    {
      "cell_type": "markdown",
      "source": [
        "Some of the commonly used libraries used by Data Scientists include:\n",
        "\n",
        "1. NumPy  \n",
        "2. Pandas  \n",
        "3. Matplotlib  \n",
        "4. Scikit-learn  \n",
        "5. TensorFlow\n"
      ],
      "metadata": {
        "id": "ami6LsUvhewd"
      }
    },
    {
      "cell_type": "markdown",
      "source": [],
      "metadata": {
        "id": "twTeVln3hebk"
      }
    },
    {
      "cell_type": "markdown",
      "source": [
        "| Data Science Tools       |\n",
        "|-------------------------|\n",
        "| Jupyter Notebook        |\n",
        "| RStudio                 |\n",
        "| Apache Zeppelin         |\n"
      ],
      "metadata": {
        "id": "gR3FEwiIh6Ke"
      }
    },
    {
      "cell_type": "markdown",
      "source": [
        "### Below are a few examples of evaluating arithmetic expressions in Python.\n"
      ],
      "metadata": {
        "id": "i8dcwukbipmw"
      }
    },
    {
      "cell_type": "code",
      "source": [],
      "metadata": {
        "id": "8dMwDUARisKj"
      },
      "execution_count": null,
      "outputs": []
    },
    {
      "cell_type": "code",
      "source": [
        "# This is a simple arithmetic expression to multiply then add integers\n",
        "(3 * 4) + 5\n"
      ],
      "metadata": {
        "colab": {
          "base_uri": "https://localhost:8080/"
        },
        "id": "USAaJLBpjbPH",
        "outputId": "a1f49bfa-e471-45d7-fb5e-a5b29dfc2951"
      },
      "execution_count": null,
      "outputs": [
        {
          "output_type": "execute_result",
          "data": {
            "text/plain": [
              "17"
            ]
          },
          "metadata": {},
          "execution_count": 1
        }
      ]
    },
    {
      "cell_type": "code",
      "source": [],
      "metadata": {
        "id": "63SVIUzRejRe"
      },
      "execution_count": null,
      "outputs": []
    },
    {
      "cell_type": "code",
      "source": [
        "# This will convert 200 minutes to hours by dividing by 60\n",
        "200 / 60\n"
      ],
      "metadata": {
        "colab": {
          "base_uri": "https://localhost:8080/"
        },
        "id": "ukg966uwkEYx",
        "outputId": "43c1dc7e-022b-47c7-9b15-33160b715067"
      },
      "execution_count": null,
      "outputs": [
        {
          "output_type": "execute_result",
          "data": {
            "text/plain": [
              "3.3333333333333335"
            ]
          },
          "metadata": {},
          "execution_count": 2
        }
      ]
    },
    {
      "cell_type": "markdown",
      "source": [],
      "metadata": {
        "id": "vNx9UQsqkEGe"
      }
    },
    {
      "cell_type": "markdown",
      "source": [],
      "metadata": {
        "id": "Xn4cY53eja_X"
      }
    },
    {
      "cell_type": "code",
      "source": [
        "**Objectives:**\n",
        "\n",
        "- List popular languages for Data Science\n",
        "- List commonly used Data Science libraries\n",
        "- Create tables in Markdown\n",
        "- Write simple arithmetic expressions in Python\n",
        "- Share Jupyter notebooks on GitHub\n"
      ],
      "metadata": {
        "id": "HofM-usKoJ1E"
      },
      "execution_count": null,
      "outputs": []
    },
    {
      "cell_type": "markdown",
      "source": [
        "## Author\n",
        "\n",
        "あなたの名前\n",
        "Noriko Misawa"
      ],
      "metadata": {
        "id": "3XWsZ_CAoxIC"
      }
    },
    {
      "cell_type": "code",
      "source": [],
      "metadata": {
        "id": "NlAB4LU6o5r2"
      },
      "execution_count": null,
      "outputs": []
    }
  ]
}